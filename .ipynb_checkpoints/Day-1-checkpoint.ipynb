{
 "cells": [
  {
   "cell_type": "markdown",
   "id": "f98b38e7",
   "metadata": {},
   "source": [
    "# Day -1 is for fetching the data and choose appropriate colums"
   ]
  },
  {
   "cell_type": "markdown",
   "id": "f7eed84d",
   "metadata": {},
   "source": [
    "## Also get Niifty-50 list and store that data in CSV"
   ]
  },
  {
   "cell_type": "code",
   "execution_count": 1,
   "id": "0f945596",
   "metadata": {},
   "outputs": [],
   "source": [
    "stock_lst = ['ADANIPORTS','ASIANPAINT','AXISBANK','BAJAJ-AUTO','BAJAJFINSV','BAJFINANCE','BHARTIARTL','BPCL','BRITANNIA','CIPLA','COALINDIA','DIVISLAB',\n",
    "'DRREDDY','EICHERMOT','GRASIM','HCLTECH','HDFC','HDFCBANK','HDFCLIFE','HEROMOTOCO','HINDALCO','HINDUNILVR','ICICIBANK','INDUSINDBK','INFY',\n",
    "'IOC','ITC','JSWSTEEL','KOTAKBANK','LT','M&M','MARUTI','NESTLEIND','NTPC','ONGC','POWERGRID','RELIANCE','SBILIFE','SBIN','SHREECEM','SUNPHARMA',\n",
    "'TATACONSUM','TATAMOTORS','TATASTEEL','TCS','TECHM','TITAN','ULTRACEMCO','UPL','WIPRO']"
   ]
  },
  {
   "cell_type": "code",
   "execution_count": 38,
   "id": "bafca2dd",
   "metadata": {},
   "outputs": [
    {
     "name": "stdout",
     "output_type": "stream",
     "text": [
      "<class 'pandas.core.frame.DataFrame'>\n",
      "<class 'pandas.core.frame.DataFrame'>\n"
     ]
    }
   ],
   "source": [
    "from nsepy import get_history\n",
    "from datetime import date\n",
    "import pandas as pd \n",
    "\n",
    "\n",
    "pd.options.display.float_format='{:.2f}'.format\n",
    "\n",
    "data = pd.DataFrame()\n",
    "\n",
    "for i in stock_lst:\n",
    "    signle_data = get_history(symbol=i, start=date.today()  , end = date.today()) \n",
    "    data = data.append(signle_data,True)\n",
    "    \n",
    "print(type(signle_data))\n",
    "print(type(data))\n",
    "file_name = 'TodaysAnalysis :' + str(date.today()) + '.csv'\n",
    "data.to_csv(file_name , index=False)\n",
    "# print(data)\n"
   ]
  },
  {
   "cell_type": "code",
   "execution_count": 3,
   "id": "b6a4784a",
   "metadata": {},
   "outputs": [],
   "source": [
    "n50_data = pd.read_csv(\"TodaysAnalysis.csv\")"
   ]
  },
  {
   "cell_type": "code",
   "execution_count": 4,
   "id": "dc9602fe",
   "metadata": {
    "scrolled": true
   },
   "outputs": [
    {
     "data": {
      "text/html": [
       "<div>\n",
       "<style scoped>\n",
       "    .dataframe tbody tr th:only-of-type {\n",
       "        vertical-align: middle;\n",
       "    }\n",
       "\n",
       "    .dataframe tbody tr th {\n",
       "        vertical-align: top;\n",
       "    }\n",
       "\n",
       "    .dataframe thead th {\n",
       "        text-align: right;\n",
       "    }\n",
       "</style>\n",
       "<table border=\"1\" class=\"dataframe\">\n",
       "  <thead>\n",
       "    <tr style=\"text-align: right;\">\n",
       "      <th></th>\n",
       "      <th>Symbol</th>\n",
       "      <th>Series</th>\n",
       "      <th>Prev Close</th>\n",
       "      <th>Open</th>\n",
       "      <th>High</th>\n",
       "      <th>Low</th>\n",
       "      <th>Last</th>\n",
       "      <th>Close</th>\n",
       "      <th>VWAP</th>\n",
       "      <th>Volume</th>\n",
       "      <th>Turnover</th>\n",
       "      <th>Trades</th>\n",
       "      <th>Deliverable Volume</th>\n",
       "      <th>%Deliverble</th>\n",
       "    </tr>\n",
       "  </thead>\n",
       "  <tbody>\n",
       "    <tr>\n",
       "      <th>0</th>\n",
       "      <td>ADANIPORTS</td>\n",
       "      <td>EQ</td>\n",
       "      <td>738.85</td>\n",
       "      <td>738.65</td>\n",
       "      <td>768.90</td>\n",
       "      <td>728.50</td>\n",
       "      <td>764.95</td>\n",
       "      <td>765.10</td>\n",
       "      <td>751.82</td>\n",
       "      <td>8959781</td>\n",
       "      <td>673614062670000.00</td>\n",
       "      <td>149571</td>\n",
       "      <td>2378333</td>\n",
       "      <td>0.33</td>\n",
       "    </tr>\n",
       "    <tr>\n",
       "      <th>1</th>\n",
       "      <td>ASIANPAINT</td>\n",
       "      <td>EQ</td>\n",
       "      <td>3553.50</td>\n",
       "      <td>3550.60</td>\n",
       "      <td>3564.00</td>\n",
       "      <td>3495.05</td>\n",
       "      <td>3535.05</td>\n",
       "      <td>3538.75</td>\n",
       "      <td>3530.40</td>\n",
       "      <td>734344</td>\n",
       "      <td>259253039555000.03</td>\n",
       "      <td>70402</td>\n",
       "      <td>298332</td>\n",
       "      <td>0.52</td>\n",
       "    </tr>\n",
       "    <tr>\n",
       "      <th>2</th>\n",
       "      <td>AXISBANK</td>\n",
       "      <td>EQ</td>\n",
       "      <td>742.80</td>\n",
       "      <td>742.90</td>\n",
       "      <td>747.05</td>\n",
       "      <td>737.30</td>\n",
       "      <td>743.00</td>\n",
       "      <td>743.25</td>\n",
       "      <td>743.13</td>\n",
       "      <td>7252279</td>\n",
       "      <td>538937227655000.00</td>\n",
       "      <td>161884</td>\n",
       "      <td>3600691</td>\n",
       "      <td>0.58</td>\n",
       "    </tr>\n",
       "    <tr>\n",
       "      <th>3</th>\n",
       "      <td>BAJAJ-AUTO</td>\n",
       "      <td>EQ</td>\n",
       "      <td>3435.10</td>\n",
       "      <td>3413.00</td>\n",
       "      <td>3445.95</td>\n",
       "      <td>3413.00</td>\n",
       "      <td>3435.00</td>\n",
       "      <td>3436.75</td>\n",
       "      <td>3434.95</td>\n",
       "      <td>225782</td>\n",
       "      <td>77554951385000.00</td>\n",
       "      <td>20945</td>\n",
       "      <td>108236</td>\n",
       "      <td>0.57</td>\n",
       "    </tr>\n",
       "    <tr>\n",
       "      <th>4</th>\n",
       "      <td>BAJAJFINSV</td>\n",
       "      <td>EQ</td>\n",
       "      <td>17798.80</td>\n",
       "      <td>17700.00</td>\n",
       "      <td>17935.05</td>\n",
       "      <td>17621.10</td>\n",
       "      <td>17800.00</td>\n",
       "      <td>17799.50</td>\n",
       "      <td>17780.03</td>\n",
       "      <td>164818</td>\n",
       "      <td>293046911745000.00</td>\n",
       "      <td>31862</td>\n",
       "      <td>24900</td>\n",
       "      <td>0.17</td>\n",
       "    </tr>\n",
       "  </tbody>\n",
       "</table>\n",
       "</div>"
      ],
      "text/plain": [
       "       Symbol Series  Prev Close     Open     High      Low     Last    Close  \\\n",
       "0  ADANIPORTS     EQ      738.85   738.65   768.90   728.50   764.95   765.10   \n",
       "1  ASIANPAINT     EQ     3553.50  3550.60  3564.00  3495.05  3535.05  3538.75   \n",
       "2    AXISBANK     EQ      742.80   742.90   747.05   737.30   743.00   743.25   \n",
       "3  BAJAJ-AUTO     EQ     3435.10  3413.00  3445.95  3413.00  3435.00  3436.75   \n",
       "4  BAJAJFINSV     EQ    17798.80 17700.00 17935.05 17621.10 17800.00 17799.50   \n",
       "\n",
       "      VWAP   Volume           Turnover  Trades  Deliverable Volume  \\\n",
       "0   751.82  8959781 673614062670000.00  149571             2378333   \n",
       "1  3530.40   734344 259253039555000.03   70402              298332   \n",
       "2   743.13  7252279 538937227655000.00  161884             3600691   \n",
       "3  3434.95   225782  77554951385000.00   20945              108236   \n",
       "4 17780.03   164818 293046911745000.00   31862               24900   \n",
       "\n",
       "   %Deliverble  \n",
       "0         0.33  \n",
       "1         0.52  \n",
       "2         0.58  \n",
       "3         0.57  \n",
       "4         0.17  "
      ]
     },
     "execution_count": 4,
     "metadata": {},
     "output_type": "execute_result"
    }
   ],
   "source": [
    "n50_data.head()"
   ]
  },
  {
   "cell_type": "code",
   "execution_count": 5,
   "id": "2e1c3468",
   "metadata": {},
   "outputs": [],
   "source": [
    "n50_data['Open Diff'] = n50_data['Open'] - n50_data['Prev Close']\n",
    "#          - n50_data['Prev Close'] ]"
   ]
  },
  {
   "cell_type": "code",
   "execution_count": 6,
   "id": "9ecce72d",
   "metadata": {},
   "outputs": [],
   "source": [
    "n50_data['HL Diff'] = n50_data['High'] - n50_data['Low']"
   ]
  },
  {
   "cell_type": "code",
   "execution_count": 7,
   "id": "974de335",
   "metadata": {},
   "outputs": [],
   "source": [
    "n50_data = n50_data.drop(['Deliverable Volume'] , axis = 1)"
   ]
  },
  {
   "cell_type": "code",
   "execution_count": 14,
   "id": "3b27110e",
   "metadata": {},
   "outputs": [
    {
     "name": "stdout",
     "output_type": "stream",
     "text": [
      "<class 'pandas.core.frame.DataFrame'>\n",
      "RangeIndex: 50 entries, 0 to 49\n",
      "Data columns (total 15 columns):\n",
      " #   Column       Non-Null Count  Dtype  \n",
      "---  ------       --------------  -----  \n",
      " 0   Symbol       50 non-null     object \n",
      " 1   Series       50 non-null     object \n",
      " 2   Prev Close   50 non-null     float64\n",
      " 3   Open         50 non-null     float64\n",
      " 4   High         50 non-null     float64\n",
      " 5   Low          50 non-null     float64\n",
      " 6   Last         50 non-null     float64\n",
      " 7   Close        50 non-null     float64\n",
      " 8   VWAP         50 non-null     float64\n",
      " 9   Volume       50 non-null     int64  \n",
      " 10  Turnover     50 non-null     float64\n",
      " 11  Trades       50 non-null     int64  \n",
      " 12  %Deliverble  50 non-null     float64\n",
      " 13  Open Diff    50 non-null     float64\n",
      " 14  HL Diff      50 non-null     float64\n",
      "dtypes: float64(11), int64(2), object(2)\n",
      "memory usage: 6.0+ KB\n"
     ]
    }
   ],
   "source": [
    "n50_data.info()"
   ]
  },
  {
   "cell_type": "code",
   "execution_count": 23,
   "id": "417369a8",
   "metadata": {},
   "outputs": [],
   "source": [
    "# lst = ['Symbol','Series']\n",
    "n50_data ['Symbol']  =  n50_data['Symbol'].astype('str')"
   ]
  },
  {
   "cell_type": "code",
   "execution_count": 24,
   "id": "d70ab103",
   "metadata": {},
   "outputs": [
    {
     "name": "stdout",
     "output_type": "stream",
     "text": [
      "<class 'pandas.core.frame.DataFrame'>\n",
      "RangeIndex: 50 entries, 0 to 49\n",
      "Data columns (total 15 columns):\n",
      " #   Column       Non-Null Count  Dtype  \n",
      "---  ------       --------------  -----  \n",
      " 0   Symbol       50 non-null     object \n",
      " 1   Series       50 non-null     object \n",
      " 2   Prev Close   50 non-null     float64\n",
      " 3   Open         50 non-null     float64\n",
      " 4   High         50 non-null     float64\n",
      " 5   Low          50 non-null     float64\n",
      " 6   Last         50 non-null     float64\n",
      " 7   Close        50 non-null     float64\n",
      " 8   VWAP         50 non-null     float64\n",
      " 9   Volume       50 non-null     int64  \n",
      " 10  Turnover     50 non-null     float64\n",
      " 11  Trades       50 non-null     int64  \n",
      " 12  %Deliverble  50 non-null     float64\n",
      " 13  Open Diff    50 non-null     float64\n",
      " 14  HL Diff      50 non-null     float64\n",
      "dtypes: float64(11), int64(2), object(2)\n",
      "memory usage: 6.0+ KB\n"
     ]
    }
   ],
   "source": [
    "n50_data.info()"
   ]
  },
  {
   "cell_type": "code",
   "execution_count": 9,
   "id": "2b63cb7d",
   "metadata": {},
   "outputs": [
    {
     "data": {
      "text/plain": [
       "(array([18748., 18779., 18809., 18840., 18871., 18901., 18932., 18962.,\n",
       "        18993.]),\n",
       " [Text(0, 0, ''),\n",
       "  Text(0, 0, ''),\n",
       "  Text(0, 0, ''),\n",
       "  Text(0, 0, ''),\n",
       "  Text(0, 0, ''),\n",
       "  Text(0, 0, ''),\n",
       "  Text(0, 0, ''),\n",
       "  Text(0, 0, ''),\n",
       "  Text(0, 0, '')])"
      ]
     },
     "execution_count": 9,
     "metadata": {},
     "output_type": "execute_result"
    },
    {
     "data": {
      "image/png": "[encoded data removed]",
      "text/plain": [
       "<Figure size 720x360 with 1 Axes>"
      ]
     },
     "metadata": {
      "needs_background": "light"
     },
     "output_type": "display_data"
    }
   ],
   "source": [
    "import matplotlib.pyplot as plt\n",
    "\n",
    "plt.figure(figsize=(10,5))\n",
    "signle_data['Close'].plot()\n",
    "plt.xticks(rotation = 30)"
   ]
  },
  {
   "cell_type": "code",
   "execution_count": 32,
   "id": "e882d8c2",
   "metadata": {},
   "outputs": [
    {
     "name": "stdout",
     "output_type": "stream",
     "text": [
      "2022-01-11\n"
     ]
    }
   ],
   "source": [
    "print(date.today())"
   ]
  },
  {
   "cell_type": "code",
   "execution_count": null,
   "id": "8506659e",
   "metadata": {},
   "outputs": [],
   "source": []
  }
 ],
 "metadata": {
  "kernelspec": {
   "display_name": "Python 3 (ipykernel)",
   "language": "python",
   "name": "python3"
  },
  "language_info": {
   "codemirror_mode": {
    "name": "ipython",
    "version": 3
   },
   "file_extension": ".py",
   "mimetype": "text/x-python",
   "name": "python",
   "nbconvert_exporter": "python",
   "pygments_lexer": "ipython3",
   "version": "3.9.7"
  }
 },
 "nbformat": 4,
 "nbformat_minor": 5
}
