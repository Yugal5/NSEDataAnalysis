{
 "cells": [
  {
   "cell_type": "code",
   "execution_count": 1,
   "id": "9534f391",
   "metadata": {},
   "outputs": [],
   "source": [
    "import pandas as pd"
   ]
  },
  {
   "cell_type": "code",
   "execution_count": 2,
   "id": "cef7bd62",
   "metadata": {},
   "outputs": [],
   "source": [
    "df = pd.read_csv(\"TodaysAnalysis_2022-01-11.csv\")"
   ]
  },
  {
   "cell_type": "code",
   "execution_count": 4,
   "id": "02be6f03",
   "metadata": {},
   "outputs": [
    {
     "data": {
      "text/plain": [
       "Index(['Symbol', 'Series', 'Prev Close', 'Open', 'High', 'Low', 'Last',\n",
       "       'Close', 'VWAP', 'Volume', 'Turnover', 'Trades', 'Deliverable Volume',\n",
       "       '%Deliverble'],\n",
       "      dtype='object')"
      ]
     },
     "execution_count": 4,
     "metadata": {},
     "output_type": "execute_result"
    }
   ],
   "source": [
    "df.columns"
   ]
  },
  {
   "cell_type": "code",
   "execution_count": 14,
   "id": "3be3e617",
   "metadata": {},
   "outputs": [],
   "source": [
    "n50_data['DayOpenChng%'] = (n50_data['Open'] - n50_data['Prev Close'] ) / n50_data['Open'] * 100"
   ]
  },
  {
   "cell_type": "code",
   "execution_count": 17,
   "id": "568b7e0c",
   "metadata": {},
   "outputs": [],
   "source": [
    "n50_data['MaxChange%'] = (n50_data['High'] - n50_data['Low']) / n50_data['High'] * 100"
   ]
  },
  {
   "cell_type": "code",
   "execution_count": 20,
   "id": "72a9fc0f",
   "metadata": {},
   "outputs": [
    {
     "data": {
      "text/plain": [
       "0     3.438133\n",
       "1    -0.439881\n",
       "2     0.013459\n",
       "3     0.640466\n",
       "4     0.561798\n",
       "5    -1.001005\n",
       "6     0.000000\n",
       "7    -1.994885\n",
       "8    -0.592616\n",
       "9    -0.382932\n",
       "10   -1.133144\n",
       "11    0.918853\n",
       "12   -0.964630\n",
       "13   -0.818659\n",
       "14    0.867474\n",
       "15    4.260773\n",
       "16    1.612099\n",
       "17    0.284163\n",
       "18   -0.752280\n",
       "19   -0.762154\n",
       "20   -1.130757\n",
       "21   -0.588847\n",
       "22    0.030864\n",
       "23   -1.090513\n",
       "24    0.268817\n",
       "25   -1.474305\n",
       "26   -0.608108\n",
       "27   -2.279729\n",
       "28   -0.404608\n",
       "29    0.561224\n",
       "30   -0.089153\n",
       "31    0.466945\n",
       "32    1.068260\n",
       "33    0.037821\n",
       "34    1.274479\n",
       "35   -0.171401\n",
       "36    0.806255\n",
       "37    0.137931\n",
       "38    0.543747\n",
       "39   -0.008519\n",
       "40    0.090182\n",
       "41    0.074627\n",
       "42   -0.439297\n",
       "43   -2.092695\n",
       "44    1.557314\n",
       "45    2.264259\n",
       "46    0.075415\n",
       "47   -0.012486\n",
       "48   -0.323506\n",
       "49   -0.035984\n",
       "dtype: float64"
      ]
     },
     "execution_count": 20,
     "metadata": {},
     "output_type": "execute_result"
    }
   ],
   "source": [
    "n50_data['OpentoLastChng%'] = (n50_data['Last'] - n50_data['Open']) / n50_data['Last'] * 100"
   ]
  },
  {
   "cell_type": "code",
   "execution_count": null,
   "id": "b369fc29",
   "metadata": {},
   "outputs": [],
   "source": []
  }
 ],
 "metadata": {
  "kernelspec": {
   "display_name": "Python 3 (ipykernel)",
   "language": "python",
   "name": "python3"
  },
  "language_info": {
   "codemirror_mode": {
    "name": "ipython",
    "version": 3
   },
   "file_extension": ".py",
   "mimetype": "text/x-python",
   "name": "python",
   "nbconvert_exporter": "python",
   "pygments_lexer": "ipython3",
   "version": "3.9.7"
  }
 },
 "nbformat": 4,
 "nbformat_minor": 5
}
