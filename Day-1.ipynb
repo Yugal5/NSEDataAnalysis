{
 "cells": [
  {
   "cell_type": "markdown",
   "id": "f98b38e7",
   "metadata": {},
   "source": [
    "# Day -1 is for fetching the data and choose appropriate colums"
   ]
  },
  {
   "cell_type": "markdown",
   "id": "f7eed84d",
   "metadata": {},
   "source": [
    "\n",
    "## Also get Niifty-50 list and store that data in CSV"
   ]
  },
  {
   "cell_type": "code",
   "execution_count": 1,
   "id": "2ea5d2e7",
   "metadata": {},
   "outputs": [],
   "source": [
    "# Please uncomment below code for first time run.\n",
    "\n",
    "# !pip install psycopg2\n",
    "# !pip install pandas\n",
    "# !pip install nsepy\n"
   ]
  },
  {
   "cell_type": "code",
   "execution_count": 2,
   "id": "c7461800",
   "metadata": {},
   "outputs": [],
   "source": [
    "import psycopg2\n",
    "\n",
    "def get_db_connection():\n",
    "    conn = psycopg2.connect(\n",
    "    database=\"Local Setup\", user='postgres', password='admin', host='127.0.0.1', port= '5432')\n",
    "    cursor = conn.cursor()\n",
    "    return cursor"
   ]
  },
  {
   "cell_type": "code",
   "execution_count": 3,
   "id": "0f945596",
   "metadata": {},
   "outputs": [],
   "source": [
    "stock_lst = ['ADANIPORTS','ASIANPAINT','AXISBANK','BAJAJ-AUTO','BAJAJFINSV','BAJFINANCE','BHARTIARTL','BPCL','BRITANNIA','CIPLA','COALINDIA','DIVISLAB',\n",
    "'DRREDDY','EICHERMOT','GRASIM','HCLTECH','HDFC','HDFCBANK','HDFCLIFE','HEROMOTOCO','HINDALCO','HINDUNILVR','ICICIBANK','INDUSINDBK','INFY',\n",
    "'IOC','ITC','JSWSTEEL','KOTAKBANK','LT','M&M','MARUTI','NESTLEIND','NTPC','ONGC','POWERGRID','RELIANCE','SBILIFE','SBIN','SHREECEM','SUNPHARMA',\n",
    "'TATACONSUM','TATAMOTORS','TATASTEEL','TCS','TECHM','TITAN','ULTRACEMCO','UPL','WIPRO']"
   ]
  },
  {
   "cell_type": "code",
   "execution_count": 4,
   "id": "bafca2dd",
   "metadata": {},
   "outputs": [],
   "source": [
    "from nsepy import get_history\n",
    "from datetime import date\n",
    "import pandas as pd\n",
    "\n",
    "pd.options.display.float_format='{:.2f}'.format\n",
    "\n",
    "data = pd.DataFrame()\n",
    "\n",
    "for i in stock_lst:\n",
    "    signle_data = get_history(symbol=i, start=date.today()  , end = date.today()) \n",
    "    data = data.append(signle_data,True)\n",
    "    \n",
    "file_name = 'TodaysAnalysis_' + str(date.today()) + '.csv'\n",
    "data.to_csv(file_name , index=False)"
   ]
  },
  {
   "cell_type": "code",
   "execution_count": 5,
   "id": "b6a4784a",
   "metadata": {},
   "outputs": [],
   "source": [
    "n50_data = pd.read_csv(\"TodaysAnalysis_2022-01-11.csv\")"
   ]
  },
  {
   "cell_type": "code",
   "execution_count": 6,
   "id": "dc9602fe",
   "metadata": {
    "scrolled": true
   },
   "outputs": [],
   "source": [
    "n50_data['DayOpenChng%'] = (n50_data['Open'] - n50_data['Prev Close'] ) / n50_data['Open'] * 100"
   ]
  },
  {
   "cell_type": "code",
   "execution_count": 7,
   "id": "4d2bbd8a",
   "metadata": {},
   "outputs": [],
   "source": [
    "n50_data['MaxChange%'] = (n50_data['High'] - n50_data['Low']) / n50_data['High'] * 100"
   ]
  },
  {
   "cell_type": "code",
   "execution_count": 8,
   "id": "1aece822",
   "metadata": {},
   "outputs": [],
   "source": [
    "n50_data['OpentoLastChng%'] = (n50_data['Last'] - n50_data['Open']) / n50_data['Last'] * 100"
   ]
  },
  {
   "cell_type": "code",
   "execution_count": 9,
   "id": "14609207",
   "metadata": {},
   "outputs": [],
   "source": [
    "lst = ['Series' ,'Turnover' , 'VWAP' , 'Volume','Trades' , 'Deliverable Volume' ]\n",
    "DBData = n50_data.drop(lst , axis =1 )"
   ]
  },
  {
   "cell_type": "code",
   "execution_count": null,
   "id": "4e6e0628",
   "metadata": {},
   "outputs": [],
   "source": []
  }
 ],
 "metadata": {
  "kernelspec": {
   "display_name": "Python 3 (ipykernel)",
   "language": "python",
   "name": "python3"
  },
  "language_info": {
   "codemirror_mode": {
    "name": "ipython",
    "version": 3
   },
   "file_extension": ".py",
   "mimetype": "text/x-python",
   "name": "python",
   "nbconvert_exporter": "python",
   "pygments_lexer": "ipython3",
   "version": "3.9.7"
  }
 },
 "nbformat": 4,
 "nbformat_minor": 5
}
