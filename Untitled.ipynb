{
 "cells": [
  {
   "cell_type": "code",
   "execution_count": 16,
   "id": "fb6c8a1c",
   "metadata": {},
   "outputs": [],
   "source": [
    "x = 17055 \n",
    "diff = 50"
   ]
  },
  {
   "cell_type": "code",
   "execution_count": 19,
   "id": "99eb5ab3",
   "metadata": {},
   "outputs": [],
   "source": [
    "temp = x % diff"
   ]
  },
  {
   "cell_type": "code",
   "execution_count": 20,
   "id": "9db64df0",
   "metadata": {},
   "outputs": [
    {
     "data": {
      "text/plain": [
       "5"
      ]
     },
     "execution_count": 20,
     "metadata": {},
     "output_type": "execute_result"
    }
   ],
   "source": [
    "temp"
   ]
  },
  {
   "cell_type": "code",
   "execution_count": 21,
   "id": "7668d6a3",
   "metadata": {},
   "outputs": [],
   "source": [
    "pre_strike = x - temp "
   ]
  },
  {
   "cell_type": "code",
   "execution_count": 25,
   "id": "12114765",
   "metadata": {},
   "outputs": [],
   "source": [
    "post_strike = x + (diff - temp)"
   ]
  },
  {
   "cell_type": "code",
   "execution_count": 26,
   "id": "9356da64",
   "metadata": {},
   "outputs": [
    {
     "data": {
      "text/plain": [
       "(17050, 17100)"
      ]
     },
     "execution_count": 26,
     "metadata": {},
     "output_type": "execute_result"
    }
   ],
   "source": [
    "pre_strike , post_strike"
   ]
  },
  {
   "cell_type": "code",
   "execution_count": null,
   "id": "18d038d1",
   "metadata": {},
   "outputs": [],
   "source": []
  }
 ],
 "metadata": {
  "kernelspec": {
   "display_name": "Python 3 (ipykernel)",
   "language": "python",
   "name": "python3"
  },
  "language_info": {
   "codemirror_mode": {
    "name": "ipython",
    "version": 3
   },
   "file_extension": ".py",
   "mimetype": "text/x-python",
   "name": "python",
   "nbconvert_exporter": "python",
   "pygments_lexer": "ipython3",
   "version": "3.9.7"
  }
 },
 "nbformat": 4,
 "nbformat_minor": 5
}
